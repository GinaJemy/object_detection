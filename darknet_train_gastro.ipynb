{
  "nbformat": 4,
  "nbformat_minor": 0,
  "metadata": {
    "colab": {
      "name": "darknet_train_gastro",
      "provenance": [],
      "collapsed_sections": [],
      "include_colab_link": true
    },
    "kernelspec": {
      "name": "python3",
      "display_name": "Python 3"
    },
    "accelerator": "GPU"
  },
  "cells": [
    {
      "cell_type": "markdown",
      "metadata": {
        "id": "view-in-github",
        "colab_type": "text"
      },
      "source": [
        "<a href=\"https://colab.research.google.com/github/GinaJemy/object_detection/blob/yolo_dev/darknet_train_gastro.ipynb\" target=\"_parent\"><img src=\"https://colab.research.google.com/assets/colab-badge.svg\" alt=\"Open In Colab\"/></a>"
      ]
    },
    {
      "cell_type": "code",
      "metadata": {
        "id": "dmWmDLq7wPiY",
        "colab_type": "code",
        "outputId": "912360c3-bb05-4902-aca1-052199dd6903",
        "colab": {
          "base_uri": "https://localhost:8080/",
          "height": 136
        }
      },
      "source": [
        "!git clone https://github.com/GinaJemy/darknet.git"
      ],
      "execution_count": 0,
      "outputs": [
        {
          "output_type": "stream",
          "text": [
            "Cloning into 'darknet'...\n",
            "remote: Enumerating objects: 174, done.\u001b[K\n",
            "remote: Counting objects: 100% (174/174), done.\u001b[K\n",
            "remote: Compressing objects: 100% (136/136), done.\u001b[K\n",
            "remote: Total 174 (delta 36), reused 172 (delta 34), pack-reused 0\u001b[K\n",
            "Receiving objects: 100% (174/174), 889.93 KiB | 2.60 MiB/s, done.\n",
            "Resolving deltas: 100% (36/36), done.\n"
          ],
          "name": "stdout"
        }
      ]
    },
    {
      "cell_type": "code",
      "metadata": {
        "id": "-jvzv7QdCDIA",
        "colab_type": "code",
        "outputId": "6653197e-fbc3-45e9-9eb7-85898bc154c0",
        "colab": {
          "base_uri": "https://localhost:8080/",
          "height": 34
        }
      },
      "source": [
        "!rm -R /content/gastro_dataset/"
      ],
      "execution_count": 0,
      "outputs": [
        {
          "output_type": "stream",
          "text": [
            "rm: cannot remove '/content/gastro_dataset/': No such file or directory\n"
          ],
          "name": "stdout"
        }
      ]
    },
    {
      "cell_type": "code",
      "metadata": {
        "id": "YpdavBJx55AN",
        "colab_type": "code",
        "outputId": "350ada74-9caa-4d4d-92eb-6580e774aae7",
        "colab": {
          "base_uri": "https://localhost:8080/",
          "height": 153
        }
      },
      "source": [
        "!git clone https://github.com/GinaJemy/gastro_dataset.git"
      ],
      "execution_count": 0,
      "outputs": [
        {
          "output_type": "stream",
          "text": [
            "Cloning into 'gastro_dataset'...\n",
            "remote: Enumerating objects: 4, done.\u001b[K\n",
            "remote: Counting objects:  25% (1/4)\u001b[K\rremote: Counting objects:  50% (2/4)\u001b[K\rremote: Counting objects:  75% (3/4)\u001b[K\rremote: Counting objects: 100% (4/4)\u001b[K\rremote: Counting objects: 100% (4/4), done.\u001b[K\n",
            "remote: Compressing objects: 100% (3/3), done.\u001b[K\n",
            "remote: Total 1512 (delta 0), reused 3 (delta 0), pack-reused 1508\u001b[K\n",
            "Receiving objects: 100% (1512/1512), 315.35 MiB | 30.55 MiB/s, done.\n",
            "Resolving deltas: 100% (667/667), done.\n",
            "Checking out files: 100% (1207/1207), done.\n"
          ],
          "name": "stdout"
        }
      ]
    },
    {
      "cell_type": "code",
      "metadata": {
        "id": "d877SBCM55Tp",
        "colab_type": "code",
        "outputId": "8e6f3af2-75c5-4afa-8c6b-0fd1b41e753f",
        "colab": {
          "base_uri": "https://localhost:8080/",
          "height": 272
        }
      },
      "source": [
        "! wget http://pjreddie.com/media/files/darknet19_448.conv.23"
      ],
      "execution_count": 0,
      "outputs": [
        {
          "output_type": "stream",
          "text": [
            "--2019-12-12 04:08:47--  http://pjreddie.com/media/files/darknet19_448.conv.23\n",
            "Resolving pjreddie.com (pjreddie.com)... 128.208.4.108\n",
            "Connecting to pjreddie.com (pjreddie.com)|128.208.4.108|:80... connected.\n",
            "HTTP request sent, awaiting response... 301 Moved Permanently\n",
            "Location: https://pjreddie.com/media/files/darknet19_448.conv.23 [following]\n",
            "--2019-12-12 04:08:47--  https://pjreddie.com/media/files/darknet19_448.conv.23\n",
            "Connecting to pjreddie.com (pjreddie.com)|128.208.4.108|:443... connected.\n",
            "HTTP request sent, awaiting response... 200 OK\n",
            "Length: 79327120 (76M) [application/octet-stream]\n",
            "Saving to: ‘darknet19_448.conv.23’\n",
            "\n",
            "darknet19_448.conv. 100%[===================>]  75.65M  19.8MB/s    in 4.7s    \n",
            "\n",
            "2019-12-12 04:08:53 (16.2 MB/s) - ‘darknet19_448.conv.23’ saved [79327120/79327120]\n",
            "\n"
          ],
          "name": "stdout"
        }
      ]
    },
    {
      "cell_type": "code",
      "metadata": {
        "id": "xVJ7LuFy55eq",
        "colab_type": "code",
        "outputId": "bff90055-a4c4-441c-f744-493ea879c1f2",
        "colab": {
          "base_uri": "https://localhost:8080/",
          "height": 1000
        }
      },
      "source": [
        "!cd darknet/ && make "
      ],
      "execution_count": 0,
      "outputs": [
        {
          "output_type": "stream",
          "text": [
            "gcc -Iinclude/ -Isrc/ -DOPENCV `pkg-config --cflags opencv 2> /dev/null || pkg-config --cflags opencv4` -DGPU -I/usr/local/cuda/include/ -DCUDNN  -Wall -Wno-unused-result -Wno-unknown-pragmas -Wfatal-errors -fPIC -Ofast -DOPENCV -DGPU -DCUDNN -c ./src/gemm.c -o obj/gemm.o\n",
            "\u001b[01m\u001b[K./src/gemm.c:\u001b[m\u001b[K In function ‘\u001b[01m\u001b[Ktime_gpu\u001b[m\u001b[K’:\n",
            "\u001b[01m\u001b[K./src/gemm.c:232:9:\u001b[m\u001b[K \u001b[01;35m\u001b[Kwarning: \u001b[m\u001b[K‘\u001b[01m\u001b[KcudaThreadSynchronize\u001b[m\u001b[K’ is deprecated [\u001b[01;35m\u001b[K-Wdeprecated-declarations\u001b[m\u001b[K]\n",
            "         \u001b[01;35m\u001b[KcudaThreadSynchronize\u001b[m\u001b[K();\n",
            "         \u001b[01;35m\u001b[K^~~~~~~~~~~~~~~~~~~~~\u001b[m\u001b[K\n",
            "In file included from \u001b[01m\u001b[K/usr/local/cuda/include/cuda_runtime.h:96:0\u001b[m\u001b[K,\n",
            "                 from \u001b[01m\u001b[Kinclude/darknet.h:11\u001b[m\u001b[K,\n",
            "                 from \u001b[01m\u001b[K./src/utils.h:5\u001b[m\u001b[K,\n",
            "                 from \u001b[01m\u001b[K./src/gemm.c:2\u001b[m\u001b[K:\n",
            "\u001b[01m\u001b[K/usr/local/cuda/include/cuda_runtime_api.h:947:57:\u001b[m\u001b[K \u001b[01;36m\u001b[Knote: \u001b[m\u001b[Kdeclared here\n",
            " extern __CUDA_DEPRECATED __host__ cudaError_t CUDARTAPI \u001b[01;36m\u001b[KcudaThreadSynchronize\u001b[m\u001b[K(void);\n",
            "                                                         \u001b[01;36m\u001b[K^~~~~~~~~~~~~~~~~~~~~\u001b[m\u001b[K\n",
            "gcc -Iinclude/ -Isrc/ -DOPENCV `pkg-config --cflags opencv 2> /dev/null || pkg-config --cflags opencv4` -DGPU -I/usr/local/cuda/include/ -DCUDNN  -Wall -Wno-unused-result -Wno-unknown-pragmas -Wfatal-errors -fPIC -Ofast -DOPENCV -DGPU -DCUDNN -c ./src/utils.c -o obj/utils.o\n",
            "gcc -Iinclude/ -Isrc/ -DOPENCV `pkg-config --cflags opencv 2> /dev/null || pkg-config --cflags opencv4` -DGPU -I/usr/local/cuda/include/ -DCUDNN  -Wall -Wno-unused-result -Wno-unknown-pragmas -Wfatal-errors -fPIC -Ofast -DOPENCV -DGPU -DCUDNN -c ./src/cuda.c -o obj/cuda.o\n",
            "gcc -Iinclude/ -Isrc/ -DOPENCV `pkg-config --cflags opencv 2> /dev/null || pkg-config --cflags opencv4` -DGPU -I/usr/local/cuda/include/ -DCUDNN  -Wall -Wno-unused-result -Wno-unknown-pragmas -Wfatal-errors -fPIC -Ofast -DOPENCV -DGPU -DCUDNN -c ./src/deconvolutional_layer.c -o obj/deconvolutional_layer.o\n",
            "gcc -Iinclude/ -Isrc/ -DOPENCV `pkg-config --cflags opencv 2> /dev/null || pkg-config --cflags opencv4` -DGPU -I/usr/local/cuda/include/ -DCUDNN  -Wall -Wno-unused-result -Wno-unknown-pragmas -Wfatal-errors -fPIC -Ofast -DOPENCV -DGPU -DCUDNN -c ./src/convolutional_layer.c -o obj/convolutional_layer.o\n",
            "gcc -Iinclude/ -Isrc/ -DOPENCV `pkg-config --cflags opencv 2> /dev/null || pkg-config --cflags opencv4` -DGPU -I/usr/local/cuda/include/ -DCUDNN  -Wall -Wno-unused-result -Wno-unknown-pragmas -Wfatal-errors -fPIC -Ofast -DOPENCV -DGPU -DCUDNN -c ./src/list.c -o obj/list.o\n",
            "gcc -Iinclude/ -Isrc/ -DOPENCV `pkg-config --cflags opencv 2> /dev/null || pkg-config --cflags opencv4` -DGPU -I/usr/local/cuda/include/ -DCUDNN  -Wall -Wno-unused-result -Wno-unknown-pragmas -Wfatal-errors -fPIC -Ofast -DOPENCV -DGPU -DCUDNN -c ./src/image.c -o obj/image.o\n",
            "gcc -Iinclude/ -Isrc/ -DOPENCV `pkg-config --cflags opencv 2> /dev/null || pkg-config --cflags opencv4` -DGPU -I/usr/local/cuda/include/ -DCUDNN  -Wall -Wno-unused-result -Wno-unknown-pragmas -Wfatal-errors -fPIC -Ofast -DOPENCV -DGPU -DCUDNN -c ./src/activations.c -o obj/activations.o\n",
            "gcc -Iinclude/ -Isrc/ -DOPENCV `pkg-config --cflags opencv 2> /dev/null || pkg-config --cflags opencv4` -DGPU -I/usr/local/cuda/include/ -DCUDNN  -Wall -Wno-unused-result -Wno-unknown-pragmas -Wfatal-errors -fPIC -Ofast -DOPENCV -DGPU -DCUDNN -c ./src/im2col.c -o obj/im2col.o\n",
            "gcc -Iinclude/ -Isrc/ -DOPENCV `pkg-config --cflags opencv 2> /dev/null || pkg-config --cflags opencv4` -DGPU -I/usr/local/cuda/include/ -DCUDNN  -Wall -Wno-unused-result -Wno-unknown-pragmas -Wfatal-errors -fPIC -Ofast -DOPENCV -DGPU -DCUDNN -c ./src/col2im.c -o obj/col2im.o\n",
            "gcc -Iinclude/ -Isrc/ -DOPENCV `pkg-config --cflags opencv 2> /dev/null || pkg-config --cflags opencv4` -DGPU -I/usr/local/cuda/include/ -DCUDNN  -Wall -Wno-unused-result -Wno-unknown-pragmas -Wfatal-errors -fPIC -Ofast -DOPENCV -DGPU -DCUDNN -c ./src/blas.c -o obj/blas.o\n",
            "gcc -Iinclude/ -Isrc/ -DOPENCV `pkg-config --cflags opencv 2> /dev/null || pkg-config --cflags opencv4` -DGPU -I/usr/local/cuda/include/ -DCUDNN  -Wall -Wno-unused-result -Wno-unknown-pragmas -Wfatal-errors -fPIC -Ofast -DOPENCV -DGPU -DCUDNN -c ./src/crop_layer.c -o obj/crop_layer.o\n",
            "gcc -Iinclude/ -Isrc/ -DOPENCV `pkg-config --cflags opencv 2> /dev/null || pkg-config --cflags opencv4` -DGPU -I/usr/local/cuda/include/ -DCUDNN  -Wall -Wno-unused-result -Wno-unknown-pragmas -Wfatal-errors -fPIC -Ofast -DOPENCV -DGPU -DCUDNN -c ./src/dropout_layer.c -o obj/dropout_layer.o\n",
            "gcc -Iinclude/ -Isrc/ -DOPENCV `pkg-config --cflags opencv 2> /dev/null || pkg-config --cflags opencv4` -DGPU -I/usr/local/cuda/include/ -DCUDNN  -Wall -Wno-unused-result -Wno-unknown-pragmas -Wfatal-errors -fPIC -Ofast -DOPENCV -DGPU -DCUDNN -c ./src/maxpool_layer.c -o obj/maxpool_layer.o\n",
            "gcc -Iinclude/ -Isrc/ -DOPENCV `pkg-config --cflags opencv 2> /dev/null || pkg-config --cflags opencv4` -DGPU -I/usr/local/cuda/include/ -DCUDNN  -Wall -Wno-unused-result -Wno-unknown-pragmas -Wfatal-errors -fPIC -Ofast -DOPENCV -DGPU -DCUDNN -c ./src/softmax_layer.c -o obj/softmax_layer.o\n",
            "gcc -Iinclude/ -Isrc/ -DOPENCV `pkg-config --cflags opencv 2> /dev/null || pkg-config --cflags opencv4` -DGPU -I/usr/local/cuda/include/ -DCUDNN  -Wall -Wno-unused-result -Wno-unknown-pragmas -Wfatal-errors -fPIC -Ofast -DOPENCV -DGPU -DCUDNN -c ./src/data.c -o obj/data.o\n",
            "gcc -Iinclude/ -Isrc/ -DOPENCV `pkg-config --cflags opencv 2> /dev/null || pkg-config --cflags opencv4` -DGPU -I/usr/local/cuda/include/ -DCUDNN  -Wall -Wno-unused-result -Wno-unknown-pragmas -Wfatal-errors -fPIC -Ofast -DOPENCV -DGPU -DCUDNN -c ./src/matrix.c -o obj/matrix.o\n",
            "gcc -Iinclude/ -Isrc/ -DOPENCV `pkg-config --cflags opencv 2> /dev/null || pkg-config --cflags opencv4` -DGPU -I/usr/local/cuda/include/ -DCUDNN  -Wall -Wno-unused-result -Wno-unknown-pragmas -Wfatal-errors -fPIC -Ofast -DOPENCV -DGPU -DCUDNN -c ./src/network.c -o obj/network.o\n",
            "gcc -Iinclude/ -Isrc/ -DOPENCV `pkg-config --cflags opencv 2> /dev/null || pkg-config --cflags opencv4` -DGPU -I/usr/local/cuda/include/ -DCUDNN  -Wall -Wno-unused-result -Wno-unknown-pragmas -Wfatal-errors -fPIC -Ofast -DOPENCV -DGPU -DCUDNN -c ./src/connected_layer.c -o obj/connected_layer.o\n",
            "gcc -Iinclude/ -Isrc/ -DOPENCV `pkg-config --cflags opencv 2> /dev/null || pkg-config --cflags opencv4` -DGPU -I/usr/local/cuda/include/ -DCUDNN  -Wall -Wno-unused-result -Wno-unknown-pragmas -Wfatal-errors -fPIC -Ofast -DOPENCV -DGPU -DCUDNN -c ./src/cost_layer.c -o obj/cost_layer.o\n",
            "gcc -Iinclude/ -Isrc/ -DOPENCV `pkg-config --cflags opencv 2> /dev/null || pkg-config --cflags opencv4` -DGPU -I/usr/local/cuda/include/ -DCUDNN  -Wall -Wno-unused-result -Wno-unknown-pragmas -Wfatal-errors -fPIC -Ofast -DOPENCV -DGPU -DCUDNN -c ./src/parser.c -o obj/parser.o\n",
            "gcc -Iinclude/ -Isrc/ -DOPENCV `pkg-config --cflags opencv 2> /dev/null || pkg-config --cflags opencv4` -DGPU -I/usr/local/cuda/include/ -DCUDNN  -Wall -Wno-unused-result -Wno-unknown-pragmas -Wfatal-errors -fPIC -Ofast -DOPENCV -DGPU -DCUDNN -c ./src/option_list.c -o obj/option_list.o\n",
            "gcc -Iinclude/ -Isrc/ -DOPENCV `pkg-config --cflags opencv 2> /dev/null || pkg-config --cflags opencv4` -DGPU -I/usr/local/cuda/include/ -DCUDNN  -Wall -Wno-unused-result -Wno-unknown-pragmas -Wfatal-errors -fPIC -Ofast -DOPENCV -DGPU -DCUDNN -c ./src/detection_layer.c -o obj/detection_layer.o\n",
            "gcc -Iinclude/ -Isrc/ -DOPENCV `pkg-config --cflags opencv 2> /dev/null || pkg-config --cflags opencv4` -DGPU -I/usr/local/cuda/include/ -DCUDNN  -Wall -Wno-unused-result -Wno-unknown-pragmas -Wfatal-errors -fPIC -Ofast -DOPENCV -DGPU -DCUDNN -c ./src/route_layer.c -o obj/route_layer.o\n",
            "gcc -Iinclude/ -Isrc/ -DOPENCV `pkg-config --cflags opencv 2> /dev/null || pkg-config --cflags opencv4` -DGPU -I/usr/local/cuda/include/ -DCUDNN  -Wall -Wno-unused-result -Wno-unknown-pragmas -Wfatal-errors -fPIC -Ofast -DOPENCV -DGPU -DCUDNN -c ./src/upsample_layer.c -o obj/upsample_layer.o\n",
            "gcc -Iinclude/ -Isrc/ -DOPENCV `pkg-config --cflags opencv 2> /dev/null || pkg-config --cflags opencv4` -DGPU -I/usr/local/cuda/include/ -DCUDNN  -Wall -Wno-unused-result -Wno-unknown-pragmas -Wfatal-errors -fPIC -Ofast -DOPENCV -DGPU -DCUDNN -c ./src/box.c -o obj/box.o\n",
            "gcc -Iinclude/ -Isrc/ -DOPENCV `pkg-config --cflags opencv 2> /dev/null || pkg-config --cflags opencv4` -DGPU -I/usr/local/cuda/include/ -DCUDNN  -Wall -Wno-unused-result -Wno-unknown-pragmas -Wfatal-errors -fPIC -Ofast -DOPENCV -DGPU -DCUDNN -c ./src/normalization_layer.c -o obj/normalization_layer.o\n",
            "gcc -Iinclude/ -Isrc/ -DOPENCV `pkg-config --cflags opencv 2> /dev/null || pkg-config --cflags opencv4` -DGPU -I/usr/local/cuda/include/ -DCUDNN  -Wall -Wno-unused-result -Wno-unknown-pragmas -Wfatal-errors -fPIC -Ofast -DOPENCV -DGPU -DCUDNN -c ./src/avgpool_layer.c -o obj/avgpool_layer.o\n",
            "gcc -Iinclude/ -Isrc/ -DOPENCV `pkg-config --cflags opencv 2> /dev/null || pkg-config --cflags opencv4` -DGPU -I/usr/local/cuda/include/ -DCUDNN  -Wall -Wno-unused-result -Wno-unknown-pragmas -Wfatal-errors -fPIC -Ofast -DOPENCV -DGPU -DCUDNN -c ./src/layer.c -o obj/layer.o\n",
            "gcc -Iinclude/ -Isrc/ -DOPENCV `pkg-config --cflags opencv 2> /dev/null || pkg-config --cflags opencv4` -DGPU -I/usr/local/cuda/include/ -DCUDNN  -Wall -Wno-unused-result -Wno-unknown-pragmas -Wfatal-errors -fPIC -Ofast -DOPENCV -DGPU -DCUDNN -c ./src/local_layer.c -o obj/local_layer.o\n",
            "gcc -Iinclude/ -Isrc/ -DOPENCV `pkg-config --cflags opencv 2> /dev/null || pkg-config --cflags opencv4` -DGPU -I/usr/local/cuda/include/ -DCUDNN  -Wall -Wno-unused-result -Wno-unknown-pragmas -Wfatal-errors -fPIC -Ofast -DOPENCV -DGPU -DCUDNN -c ./src/shortcut_layer.c -o obj/shortcut_layer.o\n",
            "gcc -Iinclude/ -Isrc/ -DOPENCV `pkg-config --cflags opencv 2> /dev/null || pkg-config --cflags opencv4` -DGPU -I/usr/local/cuda/include/ -DCUDNN  -Wall -Wno-unused-result -Wno-unknown-pragmas -Wfatal-errors -fPIC -Ofast -DOPENCV -DGPU -DCUDNN -c ./src/logistic_layer.c -o obj/logistic_layer.o\n",
            "gcc -Iinclude/ -Isrc/ -DOPENCV `pkg-config --cflags opencv 2> /dev/null || pkg-config --cflags opencv4` -DGPU -I/usr/local/cuda/include/ -DCUDNN  -Wall -Wno-unused-result -Wno-unknown-pragmas -Wfatal-errors -fPIC -Ofast -DOPENCV -DGPU -DCUDNN -c ./src/activation_layer.c -o obj/activation_layer.o\n",
            "gcc -Iinclude/ -Isrc/ -DOPENCV `pkg-config --cflags opencv 2> /dev/null || pkg-config --cflags opencv4` -DGPU -I/usr/local/cuda/include/ -DCUDNN  -Wall -Wno-unused-result -Wno-unknown-pragmas -Wfatal-errors -fPIC -Ofast -DOPENCV -DGPU -DCUDNN -c ./src/rnn_layer.c -o obj/rnn_layer.o\n",
            "gcc -Iinclude/ -Isrc/ -DOPENCV `pkg-config --cflags opencv 2> /dev/null || pkg-config --cflags opencv4` -DGPU -I/usr/local/cuda/include/ -DCUDNN  -Wall -Wno-unused-result -Wno-unknown-pragmas -Wfatal-errors -fPIC -Ofast -DOPENCV -DGPU -DCUDNN -c ./src/gru_layer.c -o obj/gru_layer.o\n",
            "gcc -Iinclude/ -Isrc/ -DOPENCV `pkg-config --cflags opencv 2> /dev/null || pkg-config --cflags opencv4` -DGPU -I/usr/local/cuda/include/ -DCUDNN  -Wall -Wno-unused-result -Wno-unknown-pragmas -Wfatal-errors -fPIC -Ofast -DOPENCV -DGPU -DCUDNN -c ./src/crnn_layer.c -o obj/crnn_layer.o\n",
            "gcc -Iinclude/ -Isrc/ -DOPENCV `pkg-config --cflags opencv 2> /dev/null || pkg-config --cflags opencv4` -DGPU -I/usr/local/cuda/include/ -DCUDNN  -Wall -Wno-unused-result -Wno-unknown-pragmas -Wfatal-errors -fPIC -Ofast -DOPENCV -DGPU -DCUDNN -c ./src/demo.c -o obj/demo.o\n",
            "gcc -Iinclude/ -Isrc/ -DOPENCV `pkg-config --cflags opencv 2> /dev/null || pkg-config --cflags opencv4` -DGPU -I/usr/local/cuda/include/ -DCUDNN  -Wall -Wno-unused-result -Wno-unknown-pragmas -Wfatal-errors -fPIC -Ofast -DOPENCV -DGPU -DCUDNN -c ./src/batchnorm_layer.c -o obj/batchnorm_layer.o\n",
            "gcc -Iinclude/ -Isrc/ -DOPENCV `pkg-config --cflags opencv 2> /dev/null || pkg-config --cflags opencv4` -DGPU -I/usr/local/cuda/include/ -DCUDNN  -Wall -Wno-unused-result -Wno-unknown-pragmas -Wfatal-errors -fPIC -Ofast -DOPENCV -DGPU -DCUDNN -c ./src/region_layer.c -o obj/region_layer.o\n",
            "gcc -Iinclude/ -Isrc/ -DOPENCV `pkg-config --cflags opencv 2> /dev/null || pkg-config --cflags opencv4` -DGPU -I/usr/local/cuda/include/ -DCUDNN  -Wall -Wno-unused-result -Wno-unknown-pragmas -Wfatal-errors -fPIC -Ofast -DOPENCV -DGPU -DCUDNN -c ./src/reorg_layer.c -o obj/reorg_layer.o\n",
            "gcc -Iinclude/ -Isrc/ -DOPENCV `pkg-config --cflags opencv 2> /dev/null || pkg-config --cflags opencv4` -DGPU -I/usr/local/cuda/include/ -DCUDNN  -Wall -Wno-unused-result -Wno-unknown-pragmas -Wfatal-errors -fPIC -Ofast -DOPENCV -DGPU -DCUDNN -c ./src/tree.c -o obj/tree.o\n",
            "gcc -Iinclude/ -Isrc/ -DOPENCV `pkg-config --cflags opencv 2> /dev/null || pkg-config --cflags opencv4` -DGPU -I/usr/local/cuda/include/ -DCUDNN  -Wall -Wno-unused-result -Wno-unknown-pragmas -Wfatal-errors -fPIC -Ofast -DOPENCV -DGPU -DCUDNN -c ./src/lstm_layer.c -o obj/lstm_layer.o\n",
            "gcc -Iinclude/ -Isrc/ -DOPENCV `pkg-config --cflags opencv 2> /dev/null || pkg-config --cflags opencv4` -DGPU -I/usr/local/cuda/include/ -DCUDNN  -Wall -Wno-unused-result -Wno-unknown-pragmas -Wfatal-errors -fPIC -Ofast -DOPENCV -DGPU -DCUDNN -c ./src/l2norm_layer.c -o obj/l2norm_layer.o\n",
            "gcc -Iinclude/ -Isrc/ -DOPENCV `pkg-config --cflags opencv 2> /dev/null || pkg-config --cflags opencv4` -DGPU -I/usr/local/cuda/include/ -DCUDNN  -Wall -Wno-unused-result -Wno-unknown-pragmas -Wfatal-errors -fPIC -Ofast -DOPENCV -DGPU -DCUDNN -c ./src/yolo_layer.c -o obj/yolo_layer.o\n",
            "gcc -Iinclude/ -Isrc/ -DOPENCV `pkg-config --cflags opencv 2> /dev/null || pkg-config --cflags opencv4` -DGPU -I/usr/local/cuda/include/ -DCUDNN  -Wall -Wno-unused-result -Wno-unknown-pragmas -Wfatal-errors -fPIC -Ofast -DOPENCV -DGPU -DCUDNN -c ./src/iseg_layer.c -o obj/iseg_layer.o\n",
            "g++ -std=c++11 -Iinclude/ -Isrc/ -DOPENCV `pkg-config --cflags opencv 2> /dev/null || pkg-config --cflags opencv4` -DGPU -I/usr/local/cuda/include/ -DCUDNN  -Wall -Wno-unused-result -Wno-unknown-pragmas -Wfatal-errors -fPIC -Ofast -DOPENCV -DGPU -DCUDNN -c ./src/image_opencv.cpp -o obj/image_opencv.o\n",
            "nvcc  -gencode arch=compute_30,code=sm_30 -gencode arch=compute_35,code=sm_35 -gencode arch=compute_50,code=[sm_50,compute_50] -gencode arch=compute_52,code=[sm_52,compute_52] -Iinclude/ -Isrc/ -DOPENCV `pkg-config --cflags opencv 2> /dev/null || pkg-config --cflags opencv4` -DGPU -I/usr/local/cuda/include/ -DCUDNN  --compiler-options \"-Wall -Wno-unused-result -Wno-unknown-pragmas -Wfatal-errors -fPIC -Ofast -DOPENCV -DGPU -DCUDNN\" -c ./src/convolutional_kernels.cu -o obj/convolutional_kernels.o\n",
            "nvcc  -gencode arch=compute_30,code=sm_30 -gencode arch=compute_35,code=sm_35 -gencode arch=compute_50,code=[sm_50,compute_50] -gencode arch=compute_52,code=[sm_52,compute_52] -Iinclude/ -Isrc/ -DOPENCV `pkg-config --cflags opencv 2> /dev/null || pkg-config --cflags opencv4` -DGPU -I/usr/local/cuda/include/ -DCUDNN  --compiler-options \"-Wall -Wno-unused-result -Wno-unknown-pragmas -Wfatal-errors -fPIC -Ofast -DOPENCV -DGPU -DCUDNN\" -c ./src/deconvolutional_kernels.cu -o obj/deconvolutional_kernels.o\n",
            "nvcc  -gencode arch=compute_30,code=sm_30 -gencode arch=compute_35,code=sm_35 -gencode arch=compute_50,code=[sm_50,compute_50] -gencode arch=compute_52,code=[sm_52,compute_52] -Iinclude/ -Isrc/ -DOPENCV `pkg-config --cflags opencv 2> /dev/null || pkg-config --cflags opencv4` -DGPU -I/usr/local/cuda/include/ -DCUDNN  --compiler-options \"-Wall -Wno-unused-result -Wno-unknown-pragmas -Wfatal-errors -fPIC -Ofast -DOPENCV -DGPU -DCUDNN\" -c ./src/activation_kernels.cu -o obj/activation_kernels.o\n",
            "nvcc  -gencode arch=compute_30,code=sm_30 -gencode arch=compute_35,code=sm_35 -gencode arch=compute_50,code=[sm_50,compute_50] -gencode arch=compute_52,code=[sm_52,compute_52] -Iinclude/ -Isrc/ -DOPENCV `pkg-config --cflags opencv 2> /dev/null || pkg-config --cflags opencv4` -DGPU -I/usr/local/cuda/include/ -DCUDNN  --compiler-options \"-Wall -Wno-unused-result -Wno-unknown-pragmas -Wfatal-errors -fPIC -Ofast -DOPENCV -DGPU -DCUDNN\" -c ./src/im2col_kernels.cu -o obj/im2col_kernels.o\n",
            "nvcc  -gencode arch=compute_30,code=sm_30 -gencode arch=compute_35,code=sm_35 -gencode arch=compute_50,code=[sm_50,compute_50] -gencode arch=compute_52,code=[sm_52,compute_52] -Iinclude/ -Isrc/ -DOPENCV `pkg-config --cflags opencv 2> /dev/null || pkg-config --cflags opencv4` -DGPU -I/usr/local/cuda/include/ -DCUDNN  --compiler-options \"-Wall -Wno-unused-result -Wno-unknown-pragmas -Wfatal-errors -fPIC -Ofast -DOPENCV -DGPU -DCUDNN\" -c ./src/col2im_kernels.cu -o obj/col2im_kernels.o\n",
            "nvcc  -gencode arch=compute_30,code=sm_30 -gencode arch=compute_35,code=sm_35 -gencode arch=compute_50,code=[sm_50,compute_50] -gencode arch=compute_52,code=[sm_52,compute_52] -Iinclude/ -Isrc/ -DOPENCV `pkg-config --cflags opencv 2> /dev/null || pkg-config --cflags opencv4` -DGPU -I/usr/local/cuda/include/ -DCUDNN  --compiler-options \"-Wall -Wno-unused-result -Wno-unknown-pragmas -Wfatal-errors -fPIC -Ofast -DOPENCV -DGPU -DCUDNN\" -c ./src/blas_kernels.cu -o obj/blas_kernels.o\n",
            "nvcc  -gencode arch=compute_30,code=sm_30 -gencode arch=compute_35,code=sm_35 -gencode arch=compute_50,code=[sm_50,compute_50] -gencode arch=compute_52,code=[sm_52,compute_52] -Iinclude/ -Isrc/ -DOPENCV `pkg-config --cflags opencv 2> /dev/null || pkg-config --cflags opencv4` -DGPU -I/usr/local/cuda/include/ -DCUDNN  --compiler-options \"-Wall -Wno-unused-result -Wno-unknown-pragmas -Wfatal-errors -fPIC -Ofast -DOPENCV -DGPU -DCUDNN\" -c ./src/crop_layer_kernels.cu -o obj/crop_layer_kernels.o\n",
            "nvcc  -gencode arch=compute_30,code=sm_30 -gencode arch=compute_35,code=sm_35 -gencode arch=compute_50,code=[sm_50,compute_50] -gencode arch=compute_52,code=[sm_52,compute_52] -Iinclude/ -Isrc/ -DOPENCV `pkg-config --cflags opencv 2> /dev/null || pkg-config --cflags opencv4` -DGPU -I/usr/local/cuda/include/ -DCUDNN  --compiler-options \"-Wall -Wno-unused-result -Wno-unknown-pragmas -Wfatal-errors -fPIC -Ofast -DOPENCV -DGPU -DCUDNN\" -c ./src/dropout_layer_kernels.cu -o obj/dropout_layer_kernels.o\n",
            "nvcc  -gencode arch=compute_30,code=sm_30 -gencode arch=compute_35,code=sm_35 -gencode arch=compute_50,code=[sm_50,compute_50] -gencode arch=compute_52,code=[sm_52,compute_52] -Iinclude/ -Isrc/ -DOPENCV `pkg-config --cflags opencv 2> /dev/null || pkg-config --cflags opencv4` -DGPU -I/usr/local/cuda/include/ -DCUDNN  --compiler-options \"-Wall -Wno-unused-result -Wno-unknown-pragmas -Wfatal-errors -fPIC -Ofast -DOPENCV -DGPU -DCUDNN\" -c ./src/maxpool_layer_kernels.cu -o obj/maxpool_layer_kernels.o\n",
            "nvcc  -gencode arch=compute_30,code=sm_30 -gencode arch=compute_35,code=sm_35 -gencode arch=compute_50,code=[sm_50,compute_50] -gencode arch=compute_52,code=[sm_52,compute_52] -Iinclude/ -Isrc/ -DOPENCV `pkg-config --cflags opencv 2> /dev/null || pkg-config --cflags opencv4` -DGPU -I/usr/local/cuda/include/ -DCUDNN  --compiler-options \"-Wall -Wno-unused-result -Wno-unknown-pragmas -Wfatal-errors -fPIC -Ofast -DOPENCV -DGPU -DCUDNN\" -c ./src/avgpool_layer_kernels.cu -o obj/avgpool_layer_kernels.o\n",
            "gcc -Wall -Wno-unused-result -Wno-unknown-pragmas -Wfatal-errors -fPIC -Ofast -DOPENCV -DGPU -DCUDNN -shared obj/gemm.o obj/utils.o obj/cuda.o obj/deconvolutional_layer.o obj/convolutional_layer.o obj/list.o obj/image.o obj/activations.o obj/im2col.o obj/col2im.o obj/blas.o obj/crop_layer.o obj/dropout_layer.o obj/maxpool_layer.o obj/softmax_layer.o obj/data.o obj/matrix.o obj/network.o obj/connected_layer.o obj/cost_layer.o obj/parser.o obj/option_list.o obj/detection_layer.o obj/route_layer.o obj/upsample_layer.o obj/box.o obj/normalization_layer.o obj/avgpool_layer.o obj/layer.o obj/local_layer.o obj/shortcut_layer.o obj/logistic_layer.o obj/activation_layer.o obj/rnn_layer.o obj/gru_layer.o obj/crnn_layer.o obj/demo.o obj/batchnorm_layer.o obj/region_layer.o obj/reorg_layer.o obj/tree.o obj/lstm_layer.o obj/l2norm_layer.o obj/yolo_layer.o obj/iseg_layer.o obj/image_opencv.o obj/convolutional_kernels.o obj/deconvolutional_kernels.o obj/activation_kernels.o obj/im2col_kernels.o obj/col2im_kernels.o obj/blas_kernels.o obj/crop_layer_kernels.o obj/dropout_layer_kernels.o obj/maxpool_layer_kernels.o obj/avgpool_layer_kernels.o -o libdarknet.so -lm -pthread  `pkg-config --libs opencv 2> /dev/null || pkg-config --libs opencv4` -lstdc++ -L/usr/local/cuda/lib64 -lcuda -lcudart -lcublas -lcurand -lcudnn -lstdc++ \n",
            "ar rcs libdarknet.a obj/gemm.o obj/utils.o obj/cuda.o obj/deconvolutional_layer.o obj/convolutional_layer.o obj/list.o obj/image.o obj/activations.o obj/im2col.o obj/col2im.o obj/blas.o obj/crop_layer.o obj/dropout_layer.o obj/maxpool_layer.o obj/softmax_layer.o obj/data.o obj/matrix.o obj/network.o obj/connected_layer.o obj/cost_layer.o obj/parser.o obj/option_list.o obj/detection_layer.o obj/route_layer.o obj/upsample_layer.o obj/box.o obj/normalization_layer.o obj/avgpool_layer.o obj/layer.o obj/local_layer.o obj/shortcut_layer.o obj/logistic_layer.o obj/activation_layer.o obj/rnn_layer.o obj/gru_layer.o obj/crnn_layer.o obj/demo.o obj/batchnorm_layer.o obj/region_layer.o obj/reorg_layer.o obj/tree.o obj/lstm_layer.o obj/l2norm_layer.o obj/yolo_layer.o obj/iseg_layer.o obj/image_opencv.o obj/convolutional_kernels.o obj/deconvolutional_kernels.o obj/activation_kernels.o obj/im2col_kernels.o obj/col2im_kernels.o obj/blas_kernels.o obj/crop_layer_kernels.o obj/dropout_layer_kernels.o obj/maxpool_layer_kernels.o obj/avgpool_layer_kernels.o\n",
            "gcc -Iinclude/ -Isrc/ -DOPENCV `pkg-config --cflags opencv 2> /dev/null || pkg-config --cflags opencv4` -DGPU -I/usr/local/cuda/include/ -DCUDNN  -Wall -Wno-unused-result -Wno-unknown-pragmas -Wfatal-errors -fPIC -Ofast -DOPENCV -DGPU -DCUDNN -c ./examples/captcha.c -o obj/captcha.o\n",
            "gcc -Iinclude/ -Isrc/ -DOPENCV `pkg-config --cflags opencv 2> /dev/null || pkg-config --cflags opencv4` -DGPU -I/usr/local/cuda/include/ -DCUDNN  -Wall -Wno-unused-result -Wno-unknown-pragmas -Wfatal-errors -fPIC -Ofast -DOPENCV -DGPU -DCUDNN -c ./examples/lsd.c -o obj/lsd.o\n",
            "gcc -Iinclude/ -Isrc/ -DOPENCV `pkg-config --cflags opencv 2> /dev/null || pkg-config --cflags opencv4` -DGPU -I/usr/local/cuda/include/ -DCUDNN  -Wall -Wno-unused-result -Wno-unknown-pragmas -Wfatal-errors -fPIC -Ofast -DOPENCV -DGPU -DCUDNN -c ./examples/super.c -o obj/super.o\n",
            "gcc -Iinclude/ -Isrc/ -DOPENCV `pkg-config --cflags opencv 2> /dev/null || pkg-config --cflags opencv4` -DGPU -I/usr/local/cuda/include/ -DCUDNN  -Wall -Wno-unused-result -Wno-unknown-pragmas -Wfatal-errors -fPIC -Ofast -DOPENCV -DGPU -DCUDNN -c ./examples/art.c -o obj/art.o\n",
            "gcc -Iinclude/ -Isrc/ -DOPENCV `pkg-config --cflags opencv 2> /dev/null || pkg-config --cflags opencv4` -DGPU -I/usr/local/cuda/include/ -DCUDNN  -Wall -Wno-unused-result -Wno-unknown-pragmas -Wfatal-errors -fPIC -Ofast -DOPENCV -DGPU -DCUDNN -c ./examples/tag.c -o obj/tag.o\n",
            "gcc -Iinclude/ -Isrc/ -DOPENCV `pkg-config --cflags opencv 2> /dev/null || pkg-config --cflags opencv4` -DGPU -I/usr/local/cuda/include/ -DCUDNN  -Wall -Wno-unused-result -Wno-unknown-pragmas -Wfatal-errors -fPIC -Ofast -DOPENCV -DGPU -DCUDNN -c ./examples/cifar.c -o obj/cifar.o\n",
            "gcc -Iinclude/ -Isrc/ -DOPENCV `pkg-config --cflags opencv 2> /dev/null || pkg-config --cflags opencv4` -DGPU -I/usr/local/cuda/include/ -DCUDNN  -Wall -Wno-unused-result -Wno-unknown-pragmas -Wfatal-errors -fPIC -Ofast -DOPENCV -DGPU -DCUDNN -c ./examples/go.c -o obj/go.o\n",
            "gcc -Iinclude/ -Isrc/ -DOPENCV `pkg-config --cflags opencv 2> /dev/null || pkg-config --cflags opencv4` -DGPU -I/usr/local/cuda/include/ -DCUDNN  -Wall -Wno-unused-result -Wno-unknown-pragmas -Wfatal-errors -fPIC -Ofast -DOPENCV -DGPU -DCUDNN -c ./examples/rnn.c -o obj/rnn.o\n",
            "gcc -Iinclude/ -Isrc/ -DOPENCV `pkg-config --cflags opencv 2> /dev/null || pkg-config --cflags opencv4` -DGPU -I/usr/local/cuda/include/ -DCUDNN  -Wall -Wno-unused-result -Wno-unknown-pragmas -Wfatal-errors -fPIC -Ofast -DOPENCV -DGPU -DCUDNN -c ./examples/segmenter.c -o obj/segmenter.o\n",
            "gcc -Iinclude/ -Isrc/ -DOPENCV `pkg-config --cflags opencv 2> /dev/null || pkg-config --cflags opencv4` -DGPU -I/usr/local/cuda/include/ -DCUDNN  -Wall -Wno-unused-result -Wno-unknown-pragmas -Wfatal-errors -fPIC -Ofast -DOPENCV -DGPU -DCUDNN -c ./examples/regressor.c -o obj/regressor.o\n",
            "gcc -Iinclude/ -Isrc/ -DOPENCV `pkg-config --cflags opencv 2> /dev/null || pkg-config --cflags opencv4` -DGPU -I/usr/local/cuda/include/ -DCUDNN  -Wall -Wno-unused-result -Wno-unknown-pragmas -Wfatal-errors -fPIC -Ofast -DOPENCV -DGPU -DCUDNN -c ./examples/classifier.c -o obj/classifier.o\n",
            "gcc -Iinclude/ -Isrc/ -DOPENCV `pkg-config --cflags opencv 2> /dev/null || pkg-config --cflags opencv4` -DGPU -I/usr/local/cuda/include/ -DCUDNN  -Wall -Wno-unused-result -Wno-unknown-pragmas -Wfatal-errors -fPIC -Ofast -DOPENCV -DGPU -DCUDNN -c ./examples/coco.c -o obj/coco.o\n",
            "gcc -Iinclude/ -Isrc/ -DOPENCV `pkg-config --cflags opencv 2> /dev/null || pkg-config --cflags opencv4` -DGPU -I/usr/local/cuda/include/ -DCUDNN  -Wall -Wno-unused-result -Wno-unknown-pragmas -Wfatal-errors -fPIC -Ofast -DOPENCV -DGPU -DCUDNN -c ./examples/yolo.c -o obj/yolo.o\n",
            "gcc -Iinclude/ -Isrc/ -DOPENCV `pkg-config --cflags opencv 2> /dev/null || pkg-config --cflags opencv4` -DGPU -I/usr/local/cuda/include/ -DCUDNN  -Wall -Wno-unused-result -Wno-unknown-pragmas -Wfatal-errors -fPIC -Ofast -DOPENCV -DGPU -DCUDNN -c ./examples/detector.c -o obj/detector.o\n",
            "gcc -Iinclude/ -Isrc/ -DOPENCV `pkg-config --cflags opencv 2> /dev/null || pkg-config --cflags opencv4` -DGPU -I/usr/local/cuda/include/ -DCUDNN  -Wall -Wno-unused-result -Wno-unknown-pragmas -Wfatal-errors -fPIC -Ofast -DOPENCV -DGPU -DCUDNN -c ./examples/nightmare.c -o obj/nightmare.o\n",
            "gcc -Iinclude/ -Isrc/ -DOPENCV `pkg-config --cflags opencv 2> /dev/null || pkg-config --cflags opencv4` -DGPU -I/usr/local/cuda/include/ -DCUDNN  -Wall -Wno-unused-result -Wno-unknown-pragmas -Wfatal-errors -fPIC -Ofast -DOPENCV -DGPU -DCUDNN -c ./examples/instance-segmenter.c -o obj/instance-segmenter.o\n",
            "gcc -Iinclude/ -Isrc/ -DOPENCV `pkg-config --cflags opencv 2> /dev/null || pkg-config --cflags opencv4` -DGPU -I/usr/local/cuda/include/ -DCUDNN  -Wall -Wno-unused-result -Wno-unknown-pragmas -Wfatal-errors -fPIC -Ofast -DOPENCV -DGPU -DCUDNN -c ./examples/darknet.c -o obj/darknet.o\n",
            "gcc -Iinclude/ -Isrc/ -DOPENCV `pkg-config --cflags opencv 2> /dev/null || pkg-config --cflags opencv4` -DGPU -I/usr/local/cuda/include/ -DCUDNN  -Wall -Wno-unused-result -Wno-unknown-pragmas -Wfatal-errors -fPIC -Ofast -DOPENCV -DGPU -DCUDNN obj/captcha.o obj/lsd.o obj/super.o obj/art.o obj/tag.o obj/cifar.o obj/go.o obj/rnn.o obj/segmenter.o obj/regressor.o obj/classifier.o obj/coco.o obj/yolo.o obj/detector.o obj/nightmare.o obj/instance-segmenter.o obj/darknet.o libdarknet.a -o darknet -lm -pthread  `pkg-config --libs opencv 2> /dev/null || pkg-config --libs opencv4` -lstdc++ -L/usr/local/cuda/lib64 -lcuda -lcudart -lcublas -lcurand -lcudnn -lstdc++  libdarknet.a\n"
          ],
          "name": "stdout"
        }
      ]
    },
    {
      "cell_type": "code",
      "metadata": {
        "id": "lQjHgfjv6EP-",
        "colab_type": "code",
        "colab": {}
      },
      "source": [
        "!cd darknet && mkdir data"
      ],
      "execution_count": 0,
      "outputs": []
    },
    {
      "cell_type": "code",
      "metadata": {
        "id": "U3z7Hlg86XU1",
        "colab_type": "code",
        "colab": {}
      },
      "source": [
        "f = open(\"./darknet/data/train.txt\", \"r\")\n",
        "txt = f.read()\n"
      ],
      "execution_count": 0,
      "outputs": []
    },
    {
      "cell_type": "code",
      "metadata": {
        "id": "PGox2qQt6ZK_",
        "colab_type": "code",
        "outputId": "2267a65e-9971-4cf1-f8d0-01a0f2be518e",
        "colab": {
          "base_uri": "https://localhost:8080/",
          "height": 34
        }
      },
      "source": [
        "images = txt.split('\\n')\n",
        "new_images = []\n",
        "for image in images:\n",
        "  new_images.append('/content/gastro_dataset/img/images/' + image.split('/')[-1])\n",
        "new_images.pop(-1)"
      ],
      "execution_count": 0,
      "outputs": [
        {
          "output_type": "execute_result",
          "data": {
            "text/plain": [
              "'/content/gastro_dataset/img/images/'"
            ]
          },
          "metadata": {
            "tags": []
          },
          "execution_count": 11
        }
      ]
    },
    {
      "cell_type": "code",
      "metadata": {
        "id": "NwbBCS_S6Zbb",
        "colab_type": "code",
        "colab": {}
      },
      "source": [
        "with open(\"./darknet/data/train.txt\", \"w\") as f:\n",
        "  f.write('\\n'.join(new_images) + '\\n')\n"
      ],
      "execution_count": 0,
      "outputs": []
    },
    {
      "cell_type": "code",
      "metadata": {
        "id": "XYSgTkox6Zfd",
        "colab_type": "code",
        "outputId": "510061d0-c0d5-4b10-c03b-757bf2933a38",
        "colab": {
          "base_uri": "https://localhost:8080/",
          "height": 1000
        }
      },
      "source": [
        "!cd darknet && ./darknet detector train obj.data yolo-obj.cfg ../yolo-obj_900.weights"
      ],
      "execution_count": 0,
      "outputs": [
        {
          "output_type": "stream",
          "text": [
            "yolo-obj\n",
            "layer     filters    size              input                output\n",
            "    0 conv     32  3 x 3 / 1   416 x 416 x   3   ->   416 x 416 x  32  0.299 BFLOPs\n",
            "    1 max          2 x 2 / 2   416 x 416 x  32   ->   208 x 208 x  32\n",
            "    2 conv     64  3 x 3 / 1   208 x 208 x  32   ->   208 x 208 x  64  1.595 BFLOPs\n",
            "    3 max          2 x 2 / 2   208 x 208 x  64   ->   104 x 104 x  64\n",
            "    4 conv    128  3 x 3 / 1   104 x 104 x  64   ->   104 x 104 x 128  1.595 BFLOPs\n",
            "    5 conv     64  1 x 1 / 1   104 x 104 x 128   ->   104 x 104 x  64  0.177 BFLOPs\n",
            "    6 conv    128  3 x 3 / 1   104 x 104 x  64   ->   104 x 104 x 128  1.595 BFLOPs\n",
            "    7 max          2 x 2 / 2   104 x 104 x 128   ->    52 x  52 x 128\n",
            "    8 conv    256  3 x 3 / 1    52 x  52 x 128   ->    52 x  52 x 256  1.595 BFLOPs\n",
            "    9 conv    128  1 x 1 / 1    52 x  52 x 256   ->    52 x  52 x 128  0.177 BFLOPs\n",
            "   10 conv    256  3 x 3 / 1    52 x  52 x 128   ->    52 x  52 x 256  1.595 BFLOPs\n",
            "   11 max          2 x 2 / 2    52 x  52 x 256   ->    26 x  26 x 256\n",
            "   12 conv    512  3 x 3 / 1    26 x  26 x 256   ->    26 x  26 x 512  1.595 BFLOPs\n",
            "   13 conv    256  1 x 1 / 1    26 x  26 x 512   ->    26 x  26 x 256  0.177 BFLOPs\n",
            "   14 conv    512  3 x 3 / 1    26 x  26 x 256   ->    26 x  26 x 512  1.595 BFLOPs\n",
            "   15 conv    256  1 x 1 / 1    26 x  26 x 512   ->    26 x  26 x 256  0.177 BFLOPs\n",
            "   16 conv    512  3 x 3 / 1    26 x  26 x 256   ->    26 x  26 x 512  1.595 BFLOPs\n",
            "   17 max          2 x 2 / 2    26 x  26 x 512   ->    13 x  13 x 512\n",
            "   18 conv   1024  3 x 3 / 1    13 x  13 x 512   ->    13 x  13 x1024  1.595 BFLOPs\n",
            "   19 conv    512  1 x 1 / 1    13 x  13 x1024   ->    13 x  13 x 512  0.177 BFLOPs\n",
            "   20 conv   1024  3 x 3 / 1    13 x  13 x 512   ->    13 x  13 x1024  1.595 BFLOPs\n",
            "   21 conv    512  1 x 1 / 1    13 x  13 x1024   ->    13 x  13 x 512  0.177 BFLOPs\n",
            "   22 conv   1024  3 x 3 / 1    13 x  13 x 512   ->    13 x  13 x1024  1.595 BFLOPs\n",
            "   23 conv   1024  3 x 3 / 1    13 x  13 x1024   ->    13 x  13 x1024  3.190 BFLOPs\n",
            "   24 conv   1024  3 x 3 / 1    13 x  13 x1024   ->    13 x  13 x1024  3.190 BFLOPs\n",
            "   25 route  16\n",
            "   26 reorg              / 2    26 x  26 x 512   ->    13 x  13 x2048\n",
            "   27 route  26 24\n",
            "   28 conv   1024  3 x 3 / 1    13 x  13 x3072   ->    13 x  13 x1024  9.569 BFLOPs\n",
            "   29 conv     70  1 x 1 / 1    13 x  13 x1024   ->    13 x  13 x  70  0.024 BFLOPs\n",
            "   30 detection\n",
            "mask_scale: Using default '1.000000'\n",
            "Loading weights from ../yolo-obj_900.weights...Done!\n",
            "Learning Rate: 0.0001, Momentum: 0.9, Decay: 0.0005\n",
            "Loaded: 10.195030 seconds\n",
            "Region Avg IOU: 0.846061, Class: 0.998716, Obj: 0.854673, No Obj: 0.009382, Avg Recall: 1.000000,  count: 29\n",
            "Region Avg IOU: 0.838232, Class: 0.998066, Obj: 0.836229, No Obj: 0.009755, Avg Recall: 1.000000,  count: 26\n",
            "Region Avg IOU: 0.823066, Class: 0.997483, Obj: 0.795364, No Obj: 0.010366, Avg Recall: 0.974359,  count: 39\n",
            "Region Avg IOU: 0.836801, Class: 0.961284, Obj: 0.851353, No Obj: 0.008323, Avg Recall: 1.000000,  count: 26\n",
            "Region Avg IOU: 0.849665, Class: 0.999212, Obj: 0.865841, No Obj: 0.008983, Avg Recall: 1.000000,  count: 29\n",
            "Region Avg IOU: 0.788681, Class: 0.991928, Obj: 0.783397, No Obj: 0.009603, Avg Recall: 0.950000,  count: 40\n",
            "Region Avg IOU: 0.792443, Class: 0.998595, Obj: 0.788363, No Obj: 0.008141, Avg Recall: 0.966667,  count: 30\n",
            "Region Avg IOU: 0.825428, Class: 0.990797, Obj: 0.814103, No Obj: 0.010612, Avg Recall: 0.975000,  count: 40\n",
            "901: 1.913747, 1.913747 avg, 0.001000 rate, 3.300029 seconds, 57664 images\n",
            "Loaded: 3.826373 seconds\n",
            "Region Avg IOU: 0.745921, Class: 0.992641, Obj: 0.660632, No Obj: 0.011867, Avg Recall: 0.901961,  count: 51\n",
            "Region Avg IOU: 0.819890, Class: 0.998128, Obj: 0.784137, No Obj: 0.008836, Avg Recall: 1.000000,  count: 29\n",
            "Region Avg IOU: 0.832666, Class: 0.996642, Obj: 0.777536, No Obj: 0.008912, Avg Recall: 1.000000,  count: 27\n",
            "Region Avg IOU: 0.779327, Class: 0.968267, Obj: 0.712441, No Obj: 0.009500, Avg Recall: 0.971429,  count: 35\n",
            "Region Avg IOU: 0.813081, Class: 0.959709, Obj: 0.799410, No Obj: 0.010716, Avg Recall: 1.000000,  count: 32\n",
            "Region Avg IOU: 0.848265, Class: 0.997493, Obj: 0.744235, No Obj: 0.007573, Avg Recall: 1.000000,  count: 18\n",
            "Region Avg IOU: 0.860683, Class: 0.996191, Obj: 0.851685, No Obj: 0.008816, Avg Recall: 1.000000,  count: 23\n",
            "Region Avg IOU: 0.832709, Class: 0.961846, Obj: 0.808052, No Obj: 0.011283, Avg Recall: 1.000000,  count: 36\n",
            "902: 3.951028, 2.117475 avg, 0.001000 rate, 3.156258 seconds, 57728 images\n",
            "Loaded: 3.521672 seconds\n",
            "Region Avg IOU: 0.825363, Class: 0.983311, Obj: 0.785260, No Obj: 0.007955, Avg Recall: 1.000000,  count: 22\n",
            "Region Avg IOU: 0.818975, Class: 0.997670, Obj: 0.816848, No Obj: 0.009704, Avg Recall: 1.000000,  count: 31\n",
            "Region Avg IOU: 0.828523, Class: 0.995870, Obj: 0.853958, No Obj: 0.008596, Avg Recall: 1.000000,  count: 26\n",
            "Region Avg IOU: 0.845584, Class: 0.997790, Obj: 0.830892, No Obj: 0.009975, Avg Recall: 1.000000,  count: 28\n",
            "Region Avg IOU: 0.796798, Class: 0.993642, Obj: 0.818636, No Obj: 0.009764, Avg Recall: 1.000000,  count: 25\n",
            "Region Avg IOU: 0.838107, Class: 0.993289, Obj: 0.835427, No Obj: 0.009600, Avg Recall: 1.000000,  count: 27\n",
            "Region Avg IOU: 0.821395, Class: 0.989550, Obj: 0.830256, No Obj: 0.010176, Avg Recall: 1.000000,  count: 33\n",
            "Region Avg IOU: 0.842726, Class: 0.997223, Obj: 0.841400, No Obj: 0.008674, Avg Recall: 1.000000,  count: 18\n",
            "903: 1.917031, 2.097431 avg, 0.001000 rate, 3.498874 seconds, 57792 images\n",
            "Loaded: 4.774403 seconds\n",
            "Region Avg IOU: 0.841130, Class: 0.994997, Obj: 0.845298, No Obj: 0.009769, Avg Recall: 1.000000,  count: 26\n",
            "Region Avg IOU: 0.850689, Class: 0.997109, Obj: 0.858315, No Obj: 0.007638, Avg Recall: 1.000000,  count: 23\n",
            "Region Avg IOU: 0.865774, Class: 0.999155, Obj: 0.824774, No Obj: 0.006824, Avg Recall: 1.000000,  count: 16\n",
            "Region Avg IOU: 0.846369, Class: 0.996985, Obj: 0.840454, No Obj: 0.011070, Avg Recall: 1.000000,  count: 33\n",
            "Region Avg IOU: 0.829099, Class: 0.997740, Obj: 0.845055, No Obj: 0.009439, Avg Recall: 1.000000,  count: 28\n",
            "Region Avg IOU: 0.832374, Class: 0.986357, Obj: 0.817251, No Obj: 0.009975, Avg Recall: 0.966667,  count: 30\n",
            "Region Avg IOU: 0.802591, Class: 0.991371, Obj: 0.745914, No Obj: 0.010783, Avg Recall: 1.000000,  count: 37\n",
            "Region Avg IOU: 0.823391, Class: 0.997332, Obj: 0.804554, No Obj: 0.011248, Avg Recall: 0.972973,  count: 37\n",
            "904: 2.059967, 2.093684 avg, 0.001000 rate, 3.199511 seconds, 57856 images\n",
            "Loaded: 4.322001 seconds\n",
            "Region Avg IOU: 0.808118, Class: 0.988111, Obj: 0.824819, No Obj: 0.010593, Avg Recall: 1.000000,  count: 30\n",
            "Region Avg IOU: 0.790403, Class: 0.995892, Obj: 0.812050, No Obj: 0.010134, Avg Recall: 0.964286,  count: 28\n",
            "Region Avg IOU: 0.835824, Class: 0.998540, Obj: 0.845425, No Obj: 0.008471, Avg Recall: 1.000000,  count: 26\n",
            "Region Avg IOU: 0.824993, Class: 0.999415, Obj: 0.870277, No Obj: 0.007464, Avg Recall: 0.956522,  count: 23\n",
            "Region Avg IOU: 0.805305, Class: 0.997207, Obj: 0.789926, No Obj: 0.010774, Avg Recall: 0.941176,  count: 34\n",
            "Region Avg IOU: 0.832976, Class: 0.972935, Obj: 0.812549, No Obj: 0.011845, Avg Recall: 1.000000,  count: 42\n",
            "Region Avg IOU: 0.827105, Class: 0.999082, Obj: 0.872232, No Obj: 0.008435, Avg Recall: 1.000000,  count: 23\n",
            "Region Avg IOU: 0.831434, Class: 0.995740, Obj: 0.832758, No Obj: 0.008943, Avg Recall: 1.000000,  count: 26\n",
            "905: 1.969923, 2.081308 avg, 0.001000 rate, 3.070422 seconds, 57920 images\n",
            "Loaded: 4.025607 seconds\n",
            "Region Avg IOU: 0.835097, Class: 0.997805, Obj: 0.813766, No Obj: 0.008770, Avg Recall: 1.000000,  count: 23\n",
            "Region Avg IOU: 0.797445, Class: 0.932665, Obj: 0.790940, No Obj: 0.010535, Avg Recall: 0.970588,  count: 34\n",
            "Region Avg IOU: 0.799264, Class: 0.989269, Obj: 0.805764, No Obj: 0.010397, Avg Recall: 0.928571,  count: 28\n",
            "Region Avg IOU: 0.833013, Class: 0.996914, Obj: 0.801241, No Obj: 0.008529, Avg Recall: 0.961538,  count: 26\n",
            "Region Avg IOU: 0.802459, Class: 0.989240, Obj: 0.798286, No Obj: 0.011121, Avg Recall: 1.000000,  count: 26\n",
            "Region Avg IOU: 0.864721, Class: 0.997856, Obj: 0.883627, No Obj: 0.009978, Avg Recall: 1.000000,  count: 23\n",
            "Region Avg IOU: 0.816834, Class: 0.970598, Obj: 0.870384, No Obj: 0.012279, Avg Recall: 1.000000,  count: 36\n",
            "Region Avg IOU: 0.833531, Class: 0.976887, Obj: 0.783885, No Obj: 0.007710, Avg Recall: 1.000000,  count: 19\n",
            "906: 2.244696, 2.097647 avg, 0.001000 rate, 3.037292 seconds, 57984 images\n",
            "Loaded: 3.416135 seconds\n",
            "Region Avg IOU: 0.838223, Class: 0.998046, Obj: 0.854815, No Obj: 0.007877, Avg Recall: 1.000000,  count: 21\n",
            "Region Avg IOU: 0.851508, Class: 0.997208, Obj: 0.872265, No Obj: 0.009311, Avg Recall: 1.000000,  count: 25\n",
            "Region Avg IOU: 0.813163, Class: 0.991560, Obj: 0.779161, No Obj: 0.012639, Avg Recall: 0.977273,  count: 44\n",
            "Region Avg IOU: 0.760179, Class: 0.991275, Obj: 0.733382, No Obj: 0.014270, Avg Recall: 0.882353,  count: 51\n",
            "Region Avg IOU: 0.848746, Class: 0.998502, Obj: 0.845807, No Obj: 0.008955, Avg Recall: 1.000000,  count: 19\n",
            "Region Avg IOU: 0.850089, Class: 0.997912, Obj: 0.867063, No Obj: 0.010501, Avg Recall: 1.000000,  count: 30\n",
            "Region Avg IOU: 0.824438, Class: 0.975678, Obj: 0.866456, No Obj: 0.007890, Avg Recall: 1.000000,  count: 18\n",
            "Region Avg IOU: 0.832546, Class: 0.998594, Obj: 0.796717, No Obj: 0.011487, Avg Recall: 1.000000,  count: 32\n",
            "907: 2.133692, 2.101252 avg, 0.001000 rate, 3.094223 seconds, 58048 images\n",
            "Loaded: 3.350980 seconds\n",
            "Region Avg IOU: 0.838483, Class: 0.995673, Obj: 0.840512, No Obj: 0.008555, Avg Recall: 1.000000,  count: 26\n",
            "Region Avg IOU: 0.845108, Class: 0.994019, Obj: 0.820806, No Obj: 0.013822, Avg Recall: 1.000000,  count: 44\n",
            "Region Avg IOU: 0.833626, Class: 0.999634, Obj: 0.895871, No Obj: 0.008116, Avg Recall: 1.000000,  count: 20\n",
            "Region Avg IOU: 0.848450, Class: 0.998200, Obj: 0.871479, No Obj: 0.008368, Avg Recall: 1.000000,  count: 22\n",
            "Region Avg IOU: 0.807874, Class: 0.990692, Obj: 0.806646, No Obj: 0.011540, Avg Recall: 1.000000,  count: 36\n",
            "Region Avg IOU: 0.788427, Class: 0.964180, Obj: 0.791467, No Obj: 0.010249, Avg Recall: 0.933333,  count: 30\n",
            "Region Avg IOU: 0.837561, Class: 0.983320, Obj: 0.813242, No Obj: 0.008363, Avg Recall: 0.958333,  count: 24\n",
            "Region Avg IOU: 0.849461, Class: 0.997930, Obj: 0.853702, No Obj: 0.011459, Avg Recall: 1.000000,  count: 33\n",
            "908: 2.243481, 2.115475 avg, 0.001000 rate, 3.526048 seconds, 58112 images\n",
            "Loaded: 4.264198 seconds\n",
            "Region Avg IOU: 0.850935, Class: 0.999684, Obj: 0.878589, No Obj: 0.006342, Avg Recall: 1.000000,  count: 17\n",
            "Region Avg IOU: 0.829123, Class: 0.996990, Obj: 0.831665, No Obj: 0.008048, Avg Recall: 1.000000,  count: 22\n",
            "Region Avg IOU: 0.839966, Class: 0.993192, Obj: 0.822235, No Obj: 0.012177, Avg Recall: 1.000000,  count: 33\n",
            "Region Avg IOU: 0.842423, Class: 0.998438, Obj: 0.893161, No Obj: 0.006994, Avg Recall: 1.000000,  count: 18\n"
          ],
          "name": "stdout"
        }
      ]
    },
    {
      "cell_type": "code",
      "metadata": {
        "id": "QGvkkUDo6ZYL",
        "colab_type": "code",
        "colab": {}
      },
      "source": [
        ""
      ],
      "execution_count": 0,
      "outputs": []
    }
  ]
}